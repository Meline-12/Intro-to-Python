{
 "cells": [
  {
   "cell_type": "markdown",
   "metadata": {},
   "source": [
    "# Lists"
   ]
  },
  {
   "cell_type": "code",
   "execution_count": 1,
   "metadata": {},
   "outputs": [
    {
     "name": "stdout",
     "output_type": "stream",
     "text": [
      "7\n",
      "-2\n"
     ]
    }
   ],
   "source": [
    "a=[1, 4, 5, 7, 8, -2, 0, -1]\n",
    "print(a[3])\n",
    "print(a[5])"
   ]
  },
  {
   "cell_type": "code",
   "execution_count": 3,
   "metadata": {},
   "outputs": [
    {
     "name": "stdout",
     "output_type": "stream",
     "text": [
      "[1, 4, 5, 7, 8, -2, 0, -1]\n"
     ]
    }
   ],
   "source": [
    "a_sorted=a.copy()\n",
    "print(a_sorted)"
   ]
  },
  {
   "cell_type": "code",
   "execution_count": 4,
   "metadata": {},
   "outputs": [
    {
     "name": "stdout",
     "output_type": "stream",
     "text": [
      "[1, 4, 5, 7, 8, -2, 0, -1]\n",
      "[-2, -1, 0, 1, 4, 5, 7, 8]\n"
     ]
    }
   ],
   "source": [
    "a_sorted.sort()\n",
    "print(a)\n",
    "print(a_sorted)"
   ]
  },
  {
   "cell_type": "code",
   "execution_count": 5,
   "metadata": {},
   "outputs": [
    {
     "name": "stdout",
     "output_type": "stream",
     "text": [
      "[-1, 0, 1]\n",
      "[0, 1, 4, 5, 7]\n"
     ]
    }
   ],
   "source": [
    "print(a_sorted[1:4])\n",
    "print(a_sorted[2:7])"
   ]
  },
  {
   "cell_type": "code",
   "execution_count": 10,
   "metadata": {},
   "outputs": [
    {
     "name": "stdout",
     "output_type": "stream",
     "text": [
      "[-2, -1, 4, 5, 7, 8]\n"
     ]
    }
   ],
   "source": [
    "del a_sorted[2:4]\n",
    "print(a_sorted)"
   ]
  },
  {
   "cell_type": "code",
   "execution_count": 14,
   "metadata": {},
   "outputs": [
    {
     "name": "stdout",
     "output_type": "stream",
     "text": [
      "['Grapes', 'Potatoes', 'Tomatoes', 'Orange', 'Lemon', 'Broccoli', 'Carrot', 'Sausages']\n"
     ]
    }
   ],
   "source": [
    "b=[\"Grapes\", \"Potatoes\", \"Tomatoes\", \"Orange\", \"Lemon\", \"Broccoli\", \"Carrot\",\"Sausages\"]\n",
    "print(b)"
   ]
  },
  {
   "cell_type": "code",
   "execution_count": 15,
   "metadata": {},
   "outputs": [
    {
     "name": "stdout",
     "output_type": "stream",
     "text": [
      "['Grapes', 'Potatoes', 'Tomatoes', 'Orange', 'Lemon', 'Broccoli', 'Carrot', 'Sausages']\n"
     ]
    }
   ],
   "source": [
    "b_sorted=b.copy()\n",
    "print(b_sorted)"
   ]
  },
  {
   "cell_type": "code",
   "execution_count": 17,
   "metadata": {},
   "outputs": [
    {
     "name": "stdout",
     "output_type": "stream",
     "text": [
      "['Broccoli', 'Carrot', 'Grapes', 'Lemon', 'Orange', 'Potatoes', 'Sausages', 'Tomatoes']\n",
      "['Grapes', 'Potatoes', 'Tomatoes', 'Orange', 'Lemon', 'Broccoli', 'Carrot', 'Sausages']\n"
     ]
    }
   ],
   "source": [
    "b_sorted.sort()\n",
    "print(b_sorted)\n",
    "print(b)"
   ]
  },
  {
   "cell_type": "code",
   "execution_count": 20,
   "metadata": {},
   "outputs": [
    {
     "name": "stdout",
     "output_type": "stream",
     "text": [
      "[4, 5, 7, 'Lemon', 'Broccoli', 'Carrot']\n"
     ]
    }
   ],
   "source": [
    "c=a[1:4]+b[4:7]\n",
    "print(c)"
   ]
  },
  {
   "cell_type": "markdown",
   "metadata": {},
   "source": [
    "# Sets"
   ]
  },
  {
   "cell_type": "code",
   "execution_count": 21,
   "metadata": {},
   "outputs": [],
   "source": [
    "a1=[\"Cookies\", \"Chocolate\", 8, True, -3, -5, \"Chocolate\", 8, False, 8]\n",
    "b1=[8, True, 10, 14, \"Chocolate\", \"Milk\", \"Jelly\", True, False, True]"
   ]
  },
  {
   "cell_type": "code",
   "execution_count": 22,
   "metadata": {},
   "outputs": [
    {
     "name": "stdout",
     "output_type": "stream",
     "text": [
      "{False, True, 'Cookies', 8, 'Chocolate', -5, -3}\n",
      "{False, True, 8, 10, 'Milk', 14, 'Chocolate', 'Jelly'}\n"
     ]
    }
   ],
   "source": [
    "set_a=set(a1)\n",
    "set_b=set(b1)\n",
    "print(set_a)\n",
    "print(set_b)"
   ]
  },
  {
   "cell_type": "code",
   "execution_count": 23,
   "metadata": {},
   "outputs": [
    {
     "name": "stdout",
     "output_type": "stream",
     "text": [
      "{False, True, 'Cookies', 8, 10, 'Milk', 14, 'Chocolate', 'Jelly', -5, -3}\n"
     ]
    }
   ],
   "source": [
    "union_ab=set_a.union(set_b)\n",
    "print(union_ab)"
   ]
  },
  {
   "cell_type": "code",
   "execution_count": 24,
   "metadata": {},
   "outputs": [
    {
     "name": "stdout",
     "output_type": "stream",
     "text": [
      "{False, True, 'Chocolate', 8}\n"
     ]
    }
   ],
   "source": [
    "intersection_ab=set_a.intersection(set_b)\n",
    "print(intersection_ab)"
   ]
  },
  {
   "cell_type": "code",
   "execution_count": 28,
   "metadata": {},
   "outputs": [
    {
     "name": "stdout",
     "output_type": "stream",
     "text": [
      "{False, True, 'Cookies', 8, 10, 'Milk', 'Oreo', 14, 'Chocolate', 'Kit-Kat', 'Jelly', -5, -3}\n"
     ]
    }
   ],
   "source": [
    "union_ab.add(\"Kit-Kat\")\n",
    "union_ab.add(\"Oreo\")\n",
    "print(union_ab)"
   ]
  },
  {
   "cell_type": "code",
   "execution_count": 29,
   "metadata": {},
   "outputs": [
    {
     "name": "stdout",
     "output_type": "stream",
     "text": [
      "{False, True, 'Cookies', 8, 10, 'Milk', 'Oreo', 14, 'Chocolate', 'Kit-Kat', 'Jelly', -5, -3}\n"
     ]
    }
   ],
   "source": [
    "new_set=union_ab or intersection_ab\n",
    "print(new_set)"
   ]
  },
  {
   "cell_type": "code",
   "execution_count": 30,
   "metadata": {},
   "outputs": [
    {
     "data": {
      "text/plain": [
       "True"
      ]
     },
     "execution_count": 30,
     "metadata": {},
     "output_type": "execute_result"
    }
   ],
   "source": [
    "\"Chocolate\" in new_set"
   ]
  },
  {
   "cell_type": "code",
   "execution_count": 31,
   "metadata": {},
   "outputs": [
    {
     "name": "stdout",
     "output_type": "stream",
     "text": [
      "{False, True, 'Cookies', 8, 10, 'Milk', 14, 'Chocolate', 'Kit-Kat', 'Jelly', -5, -3}\n"
     ]
    }
   ],
   "source": [
    "new_set.discard(\"Oreo\")\n",
    "print(new_set)"
   ]
  },
  {
   "cell_type": "markdown",
   "metadata": {},
   "source": [
    "# Tuples"
   ]
  },
  {
   "cell_type": "code",
   "execution_count": 6,
   "metadata": {},
   "outputs": [
    {
     "name": "stdout",
     "output_type": "stream",
     "text": [
      "(1, True, 'a', -2, 'Anna')\n"
     ]
    }
   ],
   "source": [
    "t1=(1, True, \"a\", -2, \"Anna\")\n",
    "print(t1)"
   ]
  },
  {
   "cell_type": "code",
   "execution_count": 2,
   "metadata": {},
   "outputs": [
    {
     "name": "stdout",
     "output_type": "stream",
     "text": [
      "[1, True, 'a', -2, 'Anna']\n"
     ]
    }
   ],
   "source": [
    "l1=list((1, True, \"a\", -2, \"Anna\"))\n",
    "print(l1)"
   ]
  },
  {
   "cell_type": "code",
   "execution_count": 4,
   "metadata": {},
   "outputs": [
    {
     "name": "stdout",
     "output_type": "stream",
     "text": [
      "[True, 'a', -2, 'Anna']\n"
     ]
    }
   ],
   "source": [
    "l1.remove(True)\n",
    "print(l1)"
   ]
  },
  {
   "cell_type": "code",
   "execution_count": 7,
   "metadata": {},
   "outputs": [
    {
     "name": "stdout",
     "output_type": "stream",
     "text": [
      "(True, 'a', -2, 'Anna')\n"
     ]
    }
   ],
   "source": [
    "t1=tuple(l1)\n",
    "print(t1)"
   ]
  },
  {
   "cell_type": "code",
   "execution_count": 8,
   "metadata": {},
   "outputs": [],
   "source": [
    "t2=(1, 2, 3, 4, 5)"
   ]
  },
  {
   "cell_type": "code",
   "execution_count": 9,
   "metadata": {},
   "outputs": [
    {
     "name": "stdout",
     "output_type": "stream",
     "text": [
      "(True, 'a', 1, 2, 3)\n"
     ]
    }
   ],
   "source": [
    "t3=(t1[0:2]+t2[0:3])\n",
    "print(t3)"
   ]
  },
  {
   "cell_type": "code",
   "execution_count": 10,
   "metadata": {},
   "outputs": [
    {
     "name": "stdout",
     "output_type": "stream",
     "text": [
      "1\n"
     ]
    }
   ],
   "source": [
    "print(t3[2])"
   ]
  },
  {
   "cell_type": "code",
   "execution_count": 17,
   "metadata": {},
   "outputs": [
    {
     "name": "stdout",
     "output_type": "stream",
     "text": [
      "3\n"
     ]
    }
   ],
   "source": [
    "t4=[(1,3,5), (8,9), (\"Anna\", \"Bob\", \"Alice\")]\n",
    "print(t4[0][1])"
   ]
  },
  {
   "cell_type": "markdown",
   "metadata": {},
   "source": [
    "# Dictionaries"
   ]
  },
  {
   "cell_type": "code",
   "execution_count": 2,
   "metadata": {},
   "outputs": [
    {
     "name": "stdout",
     "output_type": "stream",
     "text": [
      "{'dairy': ['yogurt', 'cheese'], 'fruits': ['banana', 'apple', 'orange', 'lemon', 'apple', 'banana', 'banana']}\n"
     ]
    }
   ],
   "source": [
    "market={\"dairy\":[\"yogurt\", \"cheese\"], \"fruits\":[\"banana\", \"apple\", \"orange\", \"lemon\", \"apple\", \"banana\", \"banana\"]}\n",
    "print(market)"
   ]
  },
  {
   "cell_type": "code",
   "execution_count": 13,
   "metadata": {},
   "outputs": [
    {
     "name": "stdout",
     "output_type": "stream",
     "text": [
      "{'dairy': ['yogurt', 'cheese'], 'fruits': {'apple', 'orange', 'lemon', 'banana'}, 'candies': ['mars', 'kinder', 'twix']}\n"
     ]
    }
   ],
   "source": [
    "market[\"candies\"]=[\"mars\", \"kinder\", \"twix\"]\n",
    "print(market)"
   ]
  },
  {
   "cell_type": "code",
   "execution_count": 18,
   "metadata": {},
   "outputs": [
    {
     "name": "stdout",
     "output_type": "stream",
     "text": [
      "['apple', 'banana', 'lemon', 'orange']\n"
     ]
    }
   ],
   "source": [
    "market[\"fruits\"].sort()\n",
    "print(market[\"fruits\"])"
   ]
  },
  {
   "cell_type": "code",
   "execution_count": 17,
   "metadata": {},
   "outputs": [
    {
     "name": "stdout",
     "output_type": "stream",
     "text": [
      "['apple', 'orange', 'lemon', 'banana']\n"
     ]
    }
   ],
   "source": [
    "market[\"fruits\"]=list(set(market[\"fruits\"]))\n",
    "print(market[\"fruits\"])"
   ]
  },
  {
   "cell_type": "code",
   "execution_count": null,
   "metadata": {},
   "outputs": [],
   "source": []
  }
 ],
 "metadata": {
  "kernelspec": {
   "display_name": "Python 3",
   "language": "python",
   "name": "python3"
  }
 },
 "nbformat": 4,
 "nbformat_minor": 2
}
