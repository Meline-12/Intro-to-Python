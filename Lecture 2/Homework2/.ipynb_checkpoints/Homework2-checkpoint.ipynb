{
 "cells": [
  {
   "cell_type": "markdown",
   "metadata": {},
   "source": [
    "# Problem1"
   ]
  },
  {
   "cell_type": "code",
   "execution_count": 6,
   "metadata": {},
   "outputs": [
    {
     "name": "stdout",
     "output_type": "stream",
     "text": [
      "2019-09-03 15:36:10.599969\n"
     ]
    }
   ],
   "source": [
    "import datetime\n",
    "current_time=datetime.datetime.now()\n",
    "print(current_time)"
   ]
  },
  {
   "cell_type": "code",
   "execution_count": 1,
   "metadata": {},
   "outputs": [
    {
     "ename": "SyntaxError",
     "evalue": "invalid syntax (problem1.py, line 15)",
     "output_type": "error",
     "traceback": [
      "\u001b[1;36m  File \u001b[1;32m\"C:\\Users\\ADMIN\\Desktop\\Intro-to-Python\\Lecture 2\\Homework2\\problem1.py\"\u001b[1;36m, line \u001b[1;32m15\u001b[0m\n\u001b[1;33m    if final_date=current_time + args.num_y\u001b[0m\n\u001b[1;37m                 ^\u001b[0m\n\u001b[1;31mSyntaxError\u001b[0m\u001b[1;31m:\u001b[0m invalid syntax\n"
     ]
    }
   ],
   "source": [
    "run problem1.py "
   ]
  },
  {
   "cell_type": "code",
   "execution_count": 12,
   "metadata": {},
   "outputs": [
    {
     "name": "stderr",
     "output_type": "stream",
     "text": [
      "usage: problem2.py [-h] str\n",
      "problem2.py: error: the following arguments are required: str\n"
     ]
    },
    {
     "ename": "SystemExit",
     "evalue": "2",
     "output_type": "error",
     "traceback": [
      "An exception has occurred, use %tb to see the full traceback.\n",
      "\u001b[1;31mSystemExit\u001b[0m\u001b[1;31m:\u001b[0m 2\n"
     ]
    }
   ],
   "source": [
    "run problem2.py "
   ]
  },
  {
   "cell_type": "code",
   "execution_count": 17,
   "metadata": {},
   "outputs": [
    {
     "name": "stdout",
     "output_type": "stream",
     "text": [
      "The old string: melineayvazyan\n",
      "Middle 3 characters: ayv\n",
      "The new string: MELINEAYVAZYAN\n"
     ]
    }
   ],
   "source": [
    "run problem2.py melineayvazyan"
   ]
  },
  {
   "cell_type": "code",
   "execution_count": 19,
   "metadata": {},
   "outputs": [
    {
     "name": "stdout",
     "output_type": "stream",
     "text": [
      "The given text: I am Meline Ayvazyan\n",
      "Output string: I am Astine Ayvazyan\n"
     ]
    },
    {
     "name": "stderr",
     "output_type": "stream",
     "text": [
      "usage: problem3.py [-h] text Meline Astine\n",
      "problem3.py: error: the following arguments are required: text, Meline, Astine\n"
     ]
    },
    {
     "ename": "SystemExit",
     "evalue": "2",
     "output_type": "error",
     "traceback": [
      "An exception has occurred, use %tb to see the full traceback.\n",
      "\u001b[1;31mSystemExit\u001b[0m\u001b[1;31m:\u001b[0m 2\n"
     ]
    }
   ],
   "source": [
    "run problem3.py "
   ]
  },
  {
   "cell_type": "code",
   "execution_count": 23,
   "metadata": {},
   "outputs": [
    {
     "name": "stdout",
     "output_type": "stream",
     "text": [
      "The given text: Welcome to USA. usa is awesome, isn’t it?\n",
      "The USA count is: 2\n",
      "The new text: Welcome to Armenia. usa is awesome, isn’t it?\n"
     ]
    },
    {
     "name": "stderr",
     "output_type": "stream",
     "text": [
      "usage: problem4.py [-h] text\n",
      "problem4.py: error: the following arguments are required: text\n"
     ]
    },
    {
     "ename": "SystemExit",
     "evalue": "2",
     "output_type": "error",
     "traceback": [
      "An exception has occurred, use %tb to see the full traceback.\n",
      "\u001b[1;31mSystemExit\u001b[0m\u001b[1;31m:\u001b[0m 2\n"
     ]
    }
   ],
   "source": [
    "run problem4.py"
   ]
  },
  {
   "cell_type": "markdown",
   "metadata": {},
   "source": [
    "# Problem 5"
   ]
  },
  {
   "cell_type": "code",
   "execution_count": 25,
   "metadata": {},
   "outputs": [],
   "source": [
    "import time\n",
    "import datetime\n",
    "import calendar"
   ]
  },
  {
   "cell_type": "code",
   "execution_count": 27,
   "metadata": {},
   "outputs": [
    {
     "name": "stdout",
     "output_type": "stream",
     "text": [
      "1995-11-12\n"
     ]
    }
   ],
   "source": [
    "my_bday=datetime.date(1995, 11, 12)\n",
    "print(my_bday)"
   ]
  },
  {
   "cell_type": "code",
   "execution_count": 30,
   "metadata": {},
   "outputs": [
    {
     "name": "stdout",
     "output_type": "stream",
     "text": [
      "My bday year; 1995\n"
     ]
    }
   ],
   "source": [
    "print(\"My bday year:\", my_bday.year)"
   ]
  },
  {
   "cell_type": "code",
   "execution_count": 31,
   "metadata": {},
   "outputs": [
    {
     "name": "stdout",
     "output_type": "stream",
     "text": [
      "My bday month: 11\n"
     ]
    }
   ],
   "source": [
    "print(\"My bday month:\", my_bday.month)"
   ]
  },
  {
   "cell_type": "code",
   "execution_count": 32,
   "metadata": {},
   "outputs": [
    {
     "name": "stdout",
     "output_type": "stream",
     "text": [
      "My bday day: 12\n"
     ]
    }
   ],
   "source": [
    "print(\"My bday day:\", my_bday.day)"
   ]
  },
  {
   "cell_type": "code",
   "execution_count": 36,
   "metadata": {},
   "outputs": [
    {
     "name": "stdout",
     "output_type": "stream",
     "text": [
      "6\n"
     ]
    }
   ],
   "source": [
    "print(my_bday.weekday())"
   ]
  },
  {
   "cell_type": "code",
   "execution_count": 44,
   "metadata": {},
   "outputs": [
    {
     "name": "stdout",
     "output_type": "stream",
     "text": [
      "2019-09-03\n",
      "70 days, 0:00:00\n"
     ]
    }
   ],
   "source": [
    "current_date=datetime.date.today()\n",
    "my_next_bday=datetime.date(2019, 11, 12)\n",
    "print(current_date)\n",
    "timedelta= my_next_bday - current_date\n",
    "print(timedelta)"
   ]
  },
  {
   "cell_type": "code",
   "execution_count": 50,
   "metadata": {},
   "outputs": [
    {
     "name": "stdout",
     "output_type": "stream",
     "text": [
      "      May 2017\n",
      "Mo Tu We Th Fr Sa Su\n",
      " 1  2  3  4  5  6  7\n",
      " 8  9 10 11 12 13 14\n",
      "15 16 17 18 19 20 21\n",
      "22 23 24 25 26 27 28\n",
      "29 30 31\n",
      "\n"
     ]
    }
   ],
   "source": [
    "cal_may=calendar.month(2017, 5)\n",
    "print(cal_may)"
   ]
  },
  {
   "cell_type": "code",
   "execution_count": 68,
   "metadata": {},
   "outputs": [
    {
     "name": "stdout",
     "output_type": "stream",
     "text": [
      "2019-09-03\n",
      "2019-09-02\n",
      "2019-09-03 17:53:18.343537\n",
      "2019-09-04\n",
      "2019-08-30\n"
     ]
    }
   ],
   "source": [
    "tday=datetime.date.today()\n",
    "print(tday)\n",
    "timedelta1=datetime.timedelta(days=1)\n",
    "timedelta2=datetime.timedelta(days=2)\n",
    "timedelta3=datetime.timedelta(days=3)\n",
    "yesterday=tday-timedelta1\n",
    "print(yesterday)\n",
    "current_time=datetime.datetime.today()\n",
    "print(current_time)\n",
    "print(yesterday + timedelta2)\n",
    "print(yesterday - timedelta3)"
   ]
  },
  {
   "cell_type": "code",
   "execution_count": null,
   "metadata": {},
   "outputs": [],
   "source": []
  }
 ],
 "metadata": {
  "kernelspec": {
   "display_name": "Python 3",
   "language": "python",
   "name": "python3"
  },
  "language_info": {
   "codemirror_mode": {
    "name": "ipython",
    "version": 3
   },
   "file_extension": ".py",
   "mimetype": "text/x-python",
   "name": "python",
   "nbconvert_exporter": "python",
   "pygments_lexer": "ipython3",
   "version": "3.7.3"
  }
 },
 "nbformat": 4,
 "nbformat_minor": 2
}
