{
 "cells": [
  {
   "cell_type": "markdown",
   "metadata": {},
   "source": [
    "## Problem 1"
   ]
  },
  {
   "cell_type": "code",
   "execution_count": 5,
   "metadata": {},
   "outputs": [
    {
     "name": "stdout",
     "output_type": "stream",
     "text": [
      "My monthly cost are: 10\n"
     ]
    }
   ],
   "source": [
    "import cost\n",
    "from cost import cost\n",
    "cost(10)"
   ]
  },
  {
   "cell_type": "code",
   "execution_count": 8,
   "metadata": {},
   "outputs": [
    {
     "ename": "ModuleNotFoundError",
     "evalue": "No module named 'cost_1'",
     "output_type": "error",
     "traceback": [
      "\u001b[1;31m---------------------------------------------------------------------------\u001b[0m",
      "\u001b[1;31mModuleNotFoundError\u001b[0m                       Traceback (most recent call last)",
      "\u001b[1;32m<ipython-input-8-7c9020ed6d3e>\u001b[0m in \u001b[0;36m<module>\u001b[1;34m\u001b[0m\n\u001b[1;32m----> 1\u001b[1;33m \u001b[1;32mimport\u001b[0m \u001b[0mcost_1\u001b[0m\u001b[1;33m\u001b[0m\u001b[1;33m\u001b[0m\u001b[0m\n\u001b[0m",
      "\u001b[1;31mModuleNotFoundError\u001b[0m: No module named 'cost_1'"
     ]
    }
   ],
   "source": [
    "import cost_1"
   ]
  },
  {
   "cell_type": "code",
   "execution_count": 12,
   "metadata": {},
   "outputs": [
    {
     "name": "stdout",
     "output_type": "stream",
     "text": [
      "Something went wrong\n"
     ]
    }
   ],
   "source": [
    "try:\n",
    "    import cost_1\n",
    "except Exception:\n",
    "    print(\"Something went wrong\")"
   ]
  },
  {
   "cell_type": "markdown",
   "metadata": {},
   "source": [
    "## Problem 2"
   ]
  },
  {
   "cell_type": "code",
   "execution_count": 13,
   "metadata": {},
   "outputs": [],
   "source": [
    "def div(x, y):\n",
    "    assert y!=0, \"Can’t divide\"\n",
    "    return x/y"
   ]
  },
  {
   "cell_type": "code",
   "execution_count": 14,
   "metadata": {},
   "outputs": [
    {
     "data": {
      "text/plain": [
       "0.6666666666666666"
      ]
     },
     "execution_count": 14,
     "metadata": {},
     "output_type": "execute_result"
    }
   ],
   "source": [
    "div(4, 6)"
   ]
  },
  {
   "cell_type": "code",
   "execution_count": 15,
   "metadata": {},
   "outputs": [
    {
     "ename": "AssertionError",
     "evalue": "Can’t divide",
     "output_type": "error",
     "traceback": [
      "\u001b[1;31m---------------------------------------------------------------------------\u001b[0m",
      "\u001b[1;31mAssertionError\u001b[0m                            Traceback (most recent call last)",
      "\u001b[1;32m<ipython-input-15-596c259e0d9a>\u001b[0m in \u001b[0;36m<module>\u001b[1;34m\u001b[0m\n\u001b[1;32m----> 1\u001b[1;33m \u001b[0mdiv\u001b[0m\u001b[1;33m(\u001b[0m\u001b[1;36m4\u001b[0m\u001b[1;33m,\u001b[0m \u001b[1;36m0\u001b[0m\u001b[1;33m)\u001b[0m\u001b[1;33m\u001b[0m\u001b[1;33m\u001b[0m\u001b[0m\n\u001b[0m",
      "\u001b[1;32m<ipython-input-13-eedb0e0ce916>\u001b[0m in \u001b[0;36mdiv\u001b[1;34m(x, y)\u001b[0m\n\u001b[0;32m      1\u001b[0m \u001b[1;32mdef\u001b[0m \u001b[0mdiv\u001b[0m\u001b[1;33m(\u001b[0m\u001b[0mx\u001b[0m\u001b[1;33m,\u001b[0m \u001b[0my\u001b[0m\u001b[1;33m)\u001b[0m\u001b[1;33m:\u001b[0m\u001b[1;33m\u001b[0m\u001b[1;33m\u001b[0m\u001b[0m\n\u001b[1;32m----> 2\u001b[1;33m     \u001b[1;32massert\u001b[0m \u001b[0my\u001b[0m\u001b[1;33m!=\u001b[0m\u001b[1;36m0\u001b[0m\u001b[1;33m,\u001b[0m \u001b[1;34m\"Can’t divide\"\u001b[0m\u001b[1;33m\u001b[0m\u001b[1;33m\u001b[0m\u001b[0m\n\u001b[0m\u001b[0;32m      3\u001b[0m     \u001b[1;32mreturn\u001b[0m \u001b[0mx\u001b[0m\u001b[1;33m/\u001b[0m\u001b[0my\u001b[0m\u001b[1;33m\u001b[0m\u001b[1;33m\u001b[0m\u001b[0m\n",
      "\u001b[1;31mAssertionError\u001b[0m: Can’t divide"
     ]
    }
   ],
   "source": [
    "div(4, 0)"
   ]
  },
  {
   "cell_type": "markdown",
   "metadata": {},
   "source": [
    "## Problem 3"
   ]
  },
  {
   "cell_type": "code",
   "execution_count": 67,
   "metadata": {},
   "outputs": [],
   "source": [
    " def dec_1(f1):\n",
    "    def wrapper(*args, **kwargs):\n",
    "        try:\n",
    "            num1=int(input(\"Please write your favourite number\"))\n",
    "            f1(num1)\n",
    "        except Exception:\n",
    "            print(\"Something went wrong\")\n",
    "    return wrapper\n",
    "\n",
    "import time\n",
    "\n",
    "def dec_2(f2):\n",
    "    def wrapper(*args, **kwargs):\n",
    "        t1=time.time()\n",
    "        f2(*args, **kwargs)\n",
    "        t2=time.time()\n",
    "        print(\"Time \", t2-t1)\n",
    "    return wrapper\n",
    "\n",
    "class Person:\n",
    "       \n",
    "    def __init__(self, name , last_name , age , gender, student, password):\n",
    "        self.name = name\n",
    "        self.last_name = last_name\n",
    "        self.age = age\n",
    "        self.gender = gender\n",
    "        self.student = student\n",
    "        self.__password = password\n",
    "\n",
    "    @dec_2   \n",
    "    def Greeting(self, second_person):\n",
    "        print(\"Welcome dear \" + second_person.name)\n",
    "        \n",
    "    def Goodbye(self):\n",
    "        print(\"Bye everyone!\")\n",
    "    \n",
    "    @dec_1   \n",
    "    def Favourite_num(self, num1):\n",
    "        try:\n",
    "            print(\"My favourite number is \" + str(num1))\n",
    "        except Exception:\n",
    "            print(\"Something went wrong\")\n",
    "       \n",
    "    \n",
    "    def Read_file(self, filename):\n",
    "        try:\n",
    "            open(filename + \".txt\")\n",
    "        except FileNotFoundError:\n",
    "            print(\"Sorry, this file does not exist\")\n",
    "            \n",
    "    def set_code(self, new_password):\n",
    "        self.__password=new_password\n",
    "        \n",
    "    def get_code(self):\n",
    "        return self.__password"
   ]
  },
  {
   "cell_type": "code",
   "execution_count": 68,
   "metadata": {},
   "outputs": [
    {
     "name": "stdout",
     "output_type": "stream",
     "text": [
      "Welcome dear Anahit\n",
      "Time  0.0009970664978027344\n"
     ]
    }
   ],
   "source": [
    "person_1=Person(\"Lilit\", \"Grigoryan\", 25, \"F\", \"ASUE\", \"infotun\")\n",
    "person_2=Person(\"Anahit\", \"Sargsyan\", 20, \"F\", \"AUA\", \"admin1\")\n",
    "\n",
    "person_1.Greeting(person_2)"
   ]
  },
  {
   "cell_type": "code",
   "execution_count": 69,
   "metadata": {},
   "outputs": [
    {
     "name": "stdout",
     "output_type": "stream",
     "text": [
      "Please write your favourite number45\n",
      "Something went wrong\n"
     ]
    }
   ],
   "source": [
    "person_2.Favourite_num()"
   ]
  },
  {
   "cell_type": "code",
   "execution_count": 70,
   "metadata": {},
   "outputs": [
    {
     "name": "stdout",
     "output_type": "stream",
     "text": [
      "Sorry, this file does not exist\n"
     ]
    }
   ],
   "source": [
    "person_1.Read_file(\"str\")"
   ]
  },
  {
   "cell_type": "code",
   "execution_count": 71,
   "metadata": {},
   "outputs": [
    {
     "data": {
      "text/plain": [
       "'infotun'"
      ]
     },
     "execution_count": 71,
     "metadata": {},
     "output_type": "execute_result"
    }
   ],
   "source": [
    "person_1.get_code()"
   ]
  },
  {
   "cell_type": "code",
   "execution_count": 72,
   "metadata": {},
   "outputs": [
    {
     "name": "stdout",
     "output_type": "stream",
     "text": [
      "infobak\n"
     ]
    }
   ],
   "source": [
    "person_1.set_code('infobak')\n",
    "print(person_1._Person__password)"
   ]
  },
  {
   "cell_type": "code",
   "execution_count": null,
   "metadata": {},
   "outputs": [],
   "source": []
  },
  {
   "cell_type": "code",
   "execution_count": 31,
   "metadata": {},
   "outputs": [],
   "source": [
    " def dec_1(f1):\n",
    "    def wrapper(*args, **kwargs):\n",
    "        try:\n",
    "            num1=int(input(\"Please write your favourite number\"))\n",
    "            f1(num1)\n",
    "        except Exception:\n",
    "            print(\"Something went wrong\")\n",
    "    return wrapper\n",
    "\n",
    "@dec_1   \n",
    "def Favourite_num_1(num1):\n",
    "    try:\n",
    "        print(\"My favourite number is \" + str(num1))\n",
    "    except Exception:\n",
    "        print(\"Something went wrong\")\n"
   ]
  },
  {
   "cell_type": "code",
   "execution_count": 32,
   "metadata": {},
   "outputs": [
    {
     "name": "stdout",
     "output_type": "stream",
     "text": [
      "Please write your favourite number45\n",
      "My favourite number is 45\n"
     ]
    }
   ],
   "source": [
    "Favourite_num_1()"
   ]
  }
 ],
 "metadata": {
  "kernelspec": {
   "display_name": "Python 3",
   "language": "python",
   "name": "python3"
  },
  "language_info": {
   "codemirror_mode": {
    "name": "ipython",
    "version": 3
   },
   "file_extension": ".py",
   "mimetype": "text/x-python",
   "name": "python",
   "nbconvert_exporter": "python",
   "pygments_lexer": "ipython3",
   "version": "3.7.3"
  }
 },
 "nbformat": 4,
 "nbformat_minor": 2
}
